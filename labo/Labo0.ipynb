{
 "cells": [
  {
   "cell_type": "code",
   "execution_count": 3,
   "id": "b4cfb224-782c-460c-a008-82d1f109ac74",
   "metadata": {},
   "outputs": [
    {
     "name": "stdout",
     "output_type": "stream",
     "text": [
      "[[1 4 9]\n",
      " [1 2 3]\n",
      " [1 1 1]]\n",
      "[[1, 4, 9], [1, 2, 3], [1, 1]]\n"
     ]
    }
   ],
   "source": [
    "import numpy as np \n",
    "A = [[1,4,9],[1,2,3],[1,1,1]]\n",
    "B = [[1,4,9],[1,2,3],[1,1]]\n",
    "C = []\n",
    "\n",
    "print(np.array(A))\n",
    "print(B)"
   ]
  },
  {
   "cell_type": "code",
   "execution_count": 42,
   "id": "49cee6f0-21b7-4946-b812-50fa798e6dc0",
   "metadata": {},
   "outputs": [
    {
     "name": "stdout",
     "output_type": "stream",
     "text": [
      "True\n",
      "True\n",
      "True\n",
      "False\n",
      "1\n"
     ]
    }
   ],
   "source": [
    "# Ejercicio 1\n",
    "def esCuadrada(A):\n",
    "    if len(A) == 0:\n",
    "        return True \n",
    "    return len(A) == len(A[0])\n",
    "\n",
    "print(esCuadrada(A))\n",
    "print(esCuadrada(B))\n",
    "print(esCuadrada(C))\n",
    "print(esCuadrada([[]])) \n",
    "print(len([[]])) # me da 1 \n",
    "# ÚNICO ej donde voy a pensar en caso [[]]"
   ]
  },
  {
   "cell_type": "code",
   "execution_count": 48,
   "id": "c2a9b52a-0a77-41c2-a3b4-06cf11753ed3",
   "metadata": {},
   "outputs": [
    {
     "name": "stdout",
     "output_type": "stream",
     "text": [
      "[[1 4 9]\n",
      " [0 2 3]\n",
      " [0 0 1]]\n",
      "[]\n"
     ]
    }
   ],
   "source": [
    "# Ejercicio 2 \n",
    "def triangSup(A): \n",
    "    res = []\n",
    "    for i in range(len(A)): \n",
    "        A_copia = [0]*len(A[i])\n",
    "        for j in range(len(A[i])):\n",
    "                if j >= i:\n",
    "                    A_copia[j] = A[i][j]\n",
    "        res.append(A_copia)\n",
    "    return np.array(res)\n",
    "print(triangSup(A)) \n",
    "print(triangSup(C))"
   ]
  },
  {
   "cell_type": "code",
   "execution_count": 52,
   "id": "226121ce-33f3-4890-9548-e74a44da1dd0",
   "metadata": {},
   "outputs": [
    {
     "name": "stdout",
     "output_type": "stream",
     "text": [
      "[[1 0 0]\n",
      " [1 2 0]\n",
      " [1 1 1]]\n",
      "[]\n"
     ]
    }
   ],
   "source": [
    "# Ejercicio 3 \n",
    "def triangInf(A): \n",
    "    res = []\n",
    "    for i in range(len(A)): \n",
    "        A_copia = [0]*len(A[i])\n",
    "        for j in range(len(A[i])):\n",
    "                if j <= i:\n",
    "                    A_copia[j] = A[i][j]\n",
    "        res.append(A_copia)\n",
    "    return np.array(res)\n",
    "print(triangInf(A))\n",
    "print(triangInf(C))"
   ]
  },
  {
   "cell_type": "code",
   "execution_count": 54,
   "id": "d114c9ff-990e-4ec9-a7a0-0e4be6b54cc8",
   "metadata": {},
   "outputs": [
    {
     "name": "stdout",
     "output_type": "stream",
     "text": [
      "[[1 0 0]\n",
      " [0 2 0]\n",
      " [0 0 1]]\n",
      "[]\n"
     ]
    }
   ],
   "source": [
    "# Ejercicio 4 \n",
    "def diagonal(A):\n",
    "    res = [] \n",
    "    for i in range(len(A)): \n",
    "        d = []\n",
    "        j = 0\n",
    "        for j in range(len(A[i])):\n",
    "            if j != i:\n",
    "                d.append(0) \n",
    "            else: \n",
    "                d.append(A[i][j])\n",
    "        res.append(d) \n",
    "    \n",
    "    return np.array(res) \n",
    "print(diagonal(A)) \n",
    "print(diagonal(C))"
   ]
  },
  {
   "cell_type": "code",
   "execution_count": 56,
   "id": "69375509-a500-4543-b907-8bc06eac083c",
   "metadata": {},
   "outputs": [
    {
     "name": "stdout",
     "output_type": "stream",
     "text": [
      "4\n",
      "3\n",
      "0\n"
     ]
    }
   ],
   "source": [
    "# Ejercicio 5 \n",
    "def traza(A):\n",
    "    res = 0\n",
    "    for i in range(len(A)): \n",
    "        for j in range(len(A[i])):\n",
    "            if j == i:\n",
    "                res += A[i][j]\n",
    "    return res \n",
    "print(traza(A))\n",
    "print(traza(B))\n",
    "print(traza(C))"
   ]
  },
  {
   "cell_type": "code",
   "execution_count": 69,
   "id": "69b1d6b5-759d-47fb-bf21-b49f898026d0",
   "metadata": {},
   "outputs": [
    {
     "name": "stdout",
     "output_type": "stream",
     "text": [
      "[[1, 1, 1], [4, 2, 1], [9, 3, 1]]\n",
      "[]\n"
     ]
    }
   ],
   "source": [
    "# Ejercicio 6 \n",
    "def traspuesta(A):\n",
    "    if len(A) == 0:\n",
    "        return A\n",
    "        \n",
    "    res = []\n",
    "    \n",
    "    for i in range(len(A[0])):\n",
    "         fila = []\n",
    "         for j in range(len(A)): \n",
    "              fila.append(A[j][i])\n",
    "         res.append(fila)\n",
    "    return res \n",
    "    \n",
    "print(traspuesta(A))\n",
    "print(traspuesta(C))"
   ]
  },
  {
   "cell_type": "code",
   "execution_count": 71,
   "id": "7b353d54-728f-4b26-bd4c-834b9f691ad5",
   "metadata": {},
   "outputs": [
    {
     "name": "stdout",
     "output_type": "stream",
     "text": [
      "False\n",
      "True\n"
     ]
    }
   ],
   "source": [
    "# Ejercicio 7     \n",
    "def esSimetrica(A):\n",
    "    A_traspuesta = traspuesta(A)\n",
    "    res = True \n",
    "    for i in range(len(A)): \n",
    "        for j in range(len(A)): \n",
    "            if A[i][j] != A_traspuesta[i][j]:\n",
    "                res = False \n",
    "    return res       \n",
    "print(esSimetrica(A))\n",
    "print(esSimetrica(C))"
   ]
  },
  {
   "cell_type": "code",
   "execution_count": 73,
   "id": "60ead3b6-970f-4862-87a8-763a19e79236",
   "metadata": {},
   "outputs": [
    {
     "name": "stdout",
     "output_type": "stream",
     "text": [
      "[6, 11, 18]\n"
     ]
    }
   ],
   "source": [
    "# Ejercicio 8 \n",
    "def calcularAX(A, x): \n",
    "    A_trans = traspuesta(A)\n",
    "    b = []\n",
    "    for i in range(len(A_trans)): \n",
    "        a = 0\n",
    "        for j in range(len(A_trans[i])):\n",
    "            a += (A_trans[i][j]*x[j])\n",
    "        b.append(a)\n",
    "    return b\n",
    "    \n",
    "x = [1,2,3]\n",
    "print(calcularAX(A,x))\n",
    "# no probe ningun otro caso, me canse"
   ]
  },
  {
   "cell_type": "code",
   "execution_count": 5,
   "id": "8e6061a1-1b12-4383-ac0b-b391ba6481e3",
   "metadata": {},
   "outputs": [
    {
     "name": "stdout",
     "output_type": "stream",
     "text": [
      "[[1 2 3]\n",
      " [1 4 9]\n",
      " [1 1 1]]\n"
     ]
    }
   ],
   "source": [
    "# Ejercicio 9 \n",
    "def intercambiarFilas(A, i, j):\n",
    "    new = A[i].copy()\n",
    "    A[i] = A[j]\n",
    "    A[j] = new \n",
    "    return np.array(A)\n",
    "print(intercambiarFilas(A, 0,1))"
   ]
  },
  {
   "cell_type": "code",
   "execution_count": 79,
   "id": "c336d1d4-faf9-47fa-8073-09ed9638ea97",
   "metadata": {},
   "outputs": [
    {
     "name": "stdout",
     "output_type": "stream",
     "text": [
      "[[ 7 26 57]\n",
      " [ 1  4  9]\n",
      " [ 1  1  1]]\n"
     ]
    }
   ],
   "source": [
    "# Ejercicio 10 \n",
    "def sumar_fila_multiplo(A, i, j, s): \n",
    "    for a in range(len(A[0])):\n",
    "        A[i][a] = A[i][a] + A[j][a]*s\n",
    "    return np.array(A)\n",
    "print(sumar_fila_multiplo(A,0,1,3))"
   ]
  },
  {
   "cell_type": "code",
   "execution_count": 83,
   "id": "418ba9fd-1d72-40a5-bd9e-0fb2de378854",
   "metadata": {},
   "outputs": [
    {
     "name": "stdout",
     "output_type": "stream",
     "text": [
      "False\n"
     ]
    }
   ],
   "source": [
    "# Ejercicio 11 \n",
    "def esDiagonalmenteDominante(A):\n",
    "    res = True \n",
    "    for i in range(len(A)):\n",
    "        d = 0\n",
    "        s = 0\n",
    "        for j in range(len(A[i])):\n",
    "            if i == j:\n",
    "                d = abs(A[i][j])\n",
    "            else:\n",
    "                s += abs(A[i][j])\n",
    "        if d < s:\n",
    "            res = False \n",
    "    return res \n",
    "print(esDiagonalmenteDominante(A))"
   ]
  },
  {
   "cell_type": "code",
   "execution_count": 87,
   "id": "63b331e5-8b6d-4489-8dcb-6cd3272a5cce",
   "metadata": {},
   "outputs": [
    {
     "name": "stdout",
     "output_type": "stream",
     "text": [
      "[[1 2 3 4]\n",
      " [4 1 2 3]\n",
      " [3 4 1 2]\n",
      " [2 3 4 1]]\n",
      "[[1 4 9]\n",
      " [9 1 4]\n",
      " [4 9 1]]\n"
     ]
    }
   ],
   "source": [
    "# Ejercicio 12\n",
    "def matrizCirculante(v):\n",
    "    res = [] \n",
    "    res.append(v) \n",
    "    for i in range(1,len(v)):   \n",
    "        v_copia = [0] * len(v) \n",
    "        for j in range(len(v)):\n",
    "                v_copia[j] = v[(j - i) % len(v)] \n",
    "        res.append(v_copia) \n",
    "    return np.array(res)\n",
    "\n",
    "# j = pos en la cual quiero ponerlo \n",
    "# i = pos original \n",
    "# % len(v) asi le saco lo que me sobra y entra en el arreglo \n",
    "print(matrizCirculante([1,2,3,4])) \n",
    "print(matrizCirculante(B[0]))"
   ]
  },
  {
   "cell_type": "code",
   "execution_count": 29,
   "id": "a0cc7a98-f1c4-4fc1-bd1e-5d6072cf8f23",
   "metadata": {},
   "outputs": [
    {
     "name": "stdout",
     "output_type": "stream",
     "text": [
      "[[ 1.          0.5         0.33333333  0.25      ]\n",
      " [ 1.          1.          1.          1.        ]\n",
      " [ 1.          2.          3.          4.        ]\n",
      " [ 1.          4.          9.         16.        ]]\n"
     ]
    }
   ],
   "source": [
    "# Ejercicio 13 \n",
    "def matrizVandermonde(v):\n",
    "    res = [] \n",
    "    for j in range(len(v)):\n",
    "        fila = []\n",
    "        for i in range(len(v)):\n",
    "            fila.append(v[i] ** (j-1))\n",
    "        res.append(fila)\n",
    "    return np.array(res) \n",
    "\n",
    "v = [1,2,3,4]\n",
    "print(matrizVandermonde(v))"
   ]
  },
  {
   "cell_type": "code",
   "execution_count": 79,
   "id": "cd7e83d8-bc3b-449f-8959-6f539071ec4a",
   "metadata": {},
   "outputs": [
    {
     "name": "stdout",
     "output_type": "stream",
     "text": [
      "2.0\n"
     ]
    },
    {
     "data": {
      "image/png": "[encoded data removed]",
      "text/plain": [
       "<Figure size 640x480 with 1 Axes>"
      ]
     },
     "metadata": {},
     "output_type": "display_data"
    }
   ],
   "source": [
    "# Ejercicio 14\n",
    "\"\"\"\n",
    "se puede representar el fibonacci este horrible como una formulita con matrices (segun chat gpt la verdad)\n",
    "\n",
    "[  Fk+1  ] =  [ 1 1 ]**k * [ 1 ] \n",
    "    Fk          0 0          0\n",
    "\n",
    "opinion de deepseek de que podria hacer si no nos limitaran !!\n",
    "\n",
    "\"\"\"\n",
    "def fibonacci(k):\n",
    "        a, b = 0, 1\n",
    "        for i in range(k):\n",
    "            a, b = b, a+b\n",
    "        return a \n",
    "            \n",
    "def numeroAureoSinMatriz(n):\n",
    "    return (fibonacci(n+1)/fibonacci(n))\n",
    "### esto es una poronga lo que viene a continuacion \n",
    "def multiplicarMatrizCuadrada(M, n):\n",
    "    B = [[1,1],[1,0]]\n",
    "    A = M.copy()\n",
    "    \n",
    "    for i in range(n):\n",
    "        res = [[A[0][0]*B[0][0] + A[0][1]*B[1][0], A[0][0]*B[0][1] + A[0][1]*B[1][1]],[A[1][0]*B[0][0] + A[1][1]*B[1][0],A[1][0]*B[0][1] + A[1][1]*B[1][1]]]\n",
    "    return res \n",
    "        \n",
    "\n",
    "def numeroAureo(n):\n",
    "    matriz = multiplicarMatrizCuadrada([[1,1],[1,0]],n)\n",
    "    return  (matriz[0][0] * fibonacci(n-1)) / (matriz[1][0]*fibonacci(n))\n",
    "    \n",
    "    \n",
    "\n",
    "print(numeroAureo(2))\n",
    "\n",
    "import matplotlib.pyplot as plt\n",
    "\n",
    "# elegis los valores de (x,y)\n",
    "x = list(range(2,16)) \n",
    "y = [numeroAureo(n) for n in x] \n",
    "\n",
    "# nada que ver con el ejercicio me pinto decorarlo\n",
    "plt.plot(x, y, marker='$♥$',color = 'red', label='NumAureo(n)') \n",
    "\n",
    "# titulos de los ejes:\n",
    "plt.xlabel('Número de pasos')\n",
    "plt.ylabel('Número Aureo aproximado')\n",
    "\n",
    "plt.legend()  # agrega leyenda (cosito que dice NumAureo)\n",
    "plt.grid(True) # quiero hoja cuadriculada? \n",
    "plt.show()\n",
    "\n",
    "\n",
    "\n"
   ]
  },
  {
   "cell_type": "code",
   "execution_count": 32,
   "id": "bcdbae78-a7a5-4b5d-a950-54e9a88935eb",
   "metadata": {},
   "outputs": [
    {
     "name": "stdout",
     "output_type": "stream",
     "text": [
      "[[0 1]\n",
      " [1 1]]\n",
      "[[ 0  1  1  2  3]\n",
      " [ 1  1  2  3  5]\n",
      " [ 1  2  3  5  8]\n",
      " [ 2  3  5  8 13]\n",
      " [ 3  5  8 13 21]]\n"
     ]
    }
   ],
   "source": [
    "# Ejercicio 15 \n",
    "def matrizFibonacci(n):\n",
    "    res = []\n",
    "    for i in range(n):\n",
    "        fila = []\n",
    "        for j in range(n):\n",
    "            a = fibonacci(j+i)\n",
    "            fila.append(a)\n",
    "        res.append(fila) \n",
    "    return np.array(res)\n",
    "\n",
    "print(matrizFibonacci(2))\n",
    "print(matrizFibonacci(5))"
   ]
  },
  {
   "cell_type": "code",
   "execution_count": 33,
   "id": "505f2afb-fad4-4b8d-a22b-71554d7cbed8",
   "metadata": {},
   "outputs": [
    {
     "name": "stdout",
     "output_type": "stream",
     "text": [
      "[[1.         0.5       ]\n",
      " [0.5        0.33333333]]\n",
      "[[1.         0.5        0.33333333 0.25       0.2       ]\n",
      " [0.5        0.33333333 0.25       0.2        0.16666667]\n",
      " [0.33333333 0.25       0.2        0.16666667 0.14285714]\n",
      " [0.25       0.2        0.16666667 0.14285714 0.125     ]\n",
      " [0.2        0.16666667 0.14285714 0.125      0.11111111]]\n"
     ]
    }
   ],
   "source": [
    "# Ejercicio 16 \n",
    "def matrizHilbert(n):\n",
    "    res = []\n",
    "    for i in range(n):\n",
    "        fila = []\n",
    "        for j in range(n):\n",
    "            a = 1 / (i+j+1)\n",
    "            fila.append(a)\n",
    "        res.append(fila) \n",
    "    return np.array(res)\n",
    "print(matrizHilbert(2))\n",
    "print(matrizHilbert(5))"
   ]
  },
  {
   "cell_type": "code",
   "execution_count": 105,
   "id": "8cbf00b6-fe7d-4b1b-bdc9-5cf6e9246c46",
   "metadata": {},
   "outputs": [
    {
     "name": "stdout",
     "output_type": "stream",
     "text": [
      "[-6, -1, 0]\n",
      "[4, 3, 4]\n",
      "[-1, -2, -1]\n"
     ]
    },
    {
     "data": {
      "image/png": "[encoded data removed]",
      "text/plain": [
       "<Figure size 640x480 with 1 Axes>"
      ]
     },
     "metadata": {},
     "output_type": "display_data"
    },
    {
     "data": {
      "image/png": "[encoded data removed]",
      "text/plain": [
       "<Figure size 640x480 with 1 Axes>"
      ]
     },
     "metadata": {},
     "output_type": "display_data"
    },
    {
     "data": {
      "image/png": "[encoded data removed]",
      "text/plain": [
       "<Figure size 640x480 with 1 Axes>"
      ]
     },
     "metadata": {},
     "output_type": "display_data"
    }
   ],
   "source": [
    "# Ejercicio 17 \n",
    "\n",
    "def ejercicio(v):\n",
    "    matriz = []\n",
    "    for i in range(-1, 2):\n",
    "        fila = []\n",
    "        for j in range(len(v)):\n",
    "            fila.append((i)**j)\n",
    "        matriz.append(fila)\n",
    "    return calcularAX(traspuesta(matriz), v)\n",
    "\n",
    "A = [-1,1,-1,1,-1,1] # 5\n",
    "B = [3,0,1] # 3\n",
    "C = [-2,0,0,0,0,0,0,0,0,0,1] # 10\n",
    "\n",
    "print(ejercicio(A))\n",
    "print(ejercicio(B))\n",
    "print(ejercicio(C))\n",
    "\n",
    "# gráfico A\n",
    "x = np.linspace(-1,1,50)\n",
    "f = lambda t: t**5 - t**4 + t**3 - t**2 + t - 1\n",
    "\n",
    "plt.xlabel('X')\n",
    "plt.ylabel('Y')\n",
    "plt.grid(True) \n",
    "\n",
    "plt.plot(x,f(x), color = 'red')\n",
    "plt.show()\n",
    "\n",
    "# Gráfico B \n",
    "\n",
    "x = np.linspace(-1,1,50)\n",
    "f = lambda t: t**2 + 3\n",
    "\n",
    "plt.xlabel('X')\n",
    "plt.ylabel('Y')\n",
    "plt.grid(True) \n",
    "\n",
    "plt.plot(x,f(x), color = 'orange')\n",
    "plt.show()\n",
    "\n",
    "# Gráfico C \n",
    "\n",
    "x = np.linspace(-1,1,50)\n",
    "f = lambda t: t**10 - 2\n",
    "\n",
    "plt.xlabel('X')\n",
    "plt.ylabel('Y')\n",
    "plt.grid(True) \n",
    "\n",
    "plt.plot(x,f(x), color = 'green')\n",
    "plt.show()"
   ]
  },
  {
   "cell_type": "code",
   "execution_count": 125,
   "id": "8f4e9e96-bff7-4dae-b6c6-92bc89952e9b",
   "metadata": {},
   "outputs": [
    {
     "name": "stdout",
     "output_type": "stream",
     "text": [
      "[[  0.  -4.  -8. -12.]\n",
      " [  0.  -8. -16. -24.]\n",
      " [  0.   0.   0.   0.]\n",
      " [  0.   0.   0.   0.]]\n",
      "[[1.         1.11111111 1.22222222 1.33333333]\n",
      " [0.         1.         2.         3.        ]\n",
      " [0.         0.         1.         0.25      ]]\n"
     ]
    }
   ],
   "source": [
    "# Ejercicio 18 \n",
    "\n",
    "def row_echelon(M):\n",
    "    A = M.astype(float) \n",
    "    r, c = A.shape\n",
    "    if r == 0 or c == 0:\n",
    "         return A \n",
    "# si la matriz no tiene columnas o filas ya esta red asi que se devuelve \n",
    "# si no, buscamos el primer elemento distinto de cero en la primera columna \n",
    "\n",
    "    for i in range(len(A)):\n",
    "        if A[i, 0] != 0:\n",
    "             break \n",
    "        else:\n",
    "              B = row_echelon(A[:,1:]) # si son todos cero, vamos a la columna que sigue \n",
    "              return np.hstack([A[:,:1], B]) # y devolvemos la columna a su lugar \n",
    "        \n",
    "    if i > 0: # si no encontramos elem != 0 en la primer fila, intercambiamos filas \n",
    "          ith_row = A[i].copy() \n",
    "          A[i] = A[0] \n",
    "          A[0] = ith_row \n",
    "\n",
    "# dividimos la primera fila por el primer elemento en el \n",
    "\n",
    "    A[0] = A[0] / A[0,0]\n",
    "\n",
    "# y restamos todas las siguientes filas con esa primera fila (su 1er elem es 1) \n",
    "\n",
    "    A[1:] -= A[0] * A[1:,0:1]\n",
    "\n",
    "# repetimos lo mismo en la segunda fila segunda columna\n",
    "\n",
    "    B = row_echelon(A[1:,1:])\n",
    "\n",
    "# agregamos primera fila y primera columna con ceros (creo) (este no lo entendi) \n",
    "\n",
    "    return np.vstack([A[1:], np.hstack([A[1:,:1], B])])\n",
    "\n",
    "\"\"\"\n",
    "Ejercicio: modificar de manera que evalue en cada pivot si no hay otro elemento de la misma columna \n",
    "con modulo mayor (en valor absoluto) \n",
    "caso afirmativo: swap de filas \n",
    "\"\"\"\n",
    "\n",
    "def row_echelonModificada(M):\n",
    "    A = M.astype(float) \n",
    "    r, c = A.shape\n",
    "    if r == 0 or c == 0:\n",
    "         return A \n",
    "# si la matriz no tiene columnas o filas ya esta red asi que se devuelve \n",
    "# si no, buscamos el primer elemento distinto de cero en la primera columna \n",
    "\n",
    "    for i in range(len(A)):\n",
    "        if A[i, 0] != 0:\n",
    "             break \n",
    "        else:\n",
    "              B = row_echelonModificada(A[:,1:]) # si son todos cero, vamos a la columna que sigue \n",
    "              return np.hstack([A[:,:1], B]) # y devolvemos la columna a su lugar \n",
    "        \n",
    "    if i > 0: # si no encontramos elem != 0 en la primer fila, intercambiamos filas \n",
    "          ith_row = A[i].copy() \n",
    "          A[i] = A[0] \n",
    "          A[0] = ith_row \n",
    "   # ACÁ ESTÁ LA MODIFICACIÓN: \n",
    "\n",
    "    rta = True\n",
    "    j = 0\n",
    "    for i in range(len(A)):\n",
    "        if abs(A[i][0]) > abs(A[0][0]):\n",
    "                rta = False \n",
    "                j = i\n",
    "    if rta == False:\n",
    "            ith_row = A[j].copy()\n",
    "            A[j] = A[0]\n",
    "            A[0] = ith_row   \n",
    "# dividimos la primera fila por el primer elemento en el \n",
    "\n",
    "    A[0] = A[0] / A[0,0]\n",
    "\n",
    "# y restamos todas las siguientes filas con esa primera fila (su 1er elem es 1) \n",
    "\n",
    "    A[1:] -= A[0] * A[1:,0:1]\n",
    "\n",
    "# repetimos lo mismo en la segunda fila segunda columna\n",
    "\n",
    "    B = row_echelonModificada(A[1:,1:])\n",
    "\n",
    "# agregamos primera fila y primera columna con ceros (creo) (este no lo entendi) \n",
    "\n",
    "    return np.vstack([A[0:1], np.hstack([A[1:,:1], B])]) # y cambie un pedacito aca \n",
    "\n",
    "A = np.array([[1,2,3,4],[5,6,7,8],[9,10,11,12]])\n",
    "print(row_echelon(A))\n",
    "print(row_echelonModificada(A))\n",
    "  "
   ]
  },
  {
   "cell_type": "code",
   "execution_count": null,
   "id": "8ebe6388-5bb6-4379-ab77-49fdcd999ef4",
   "metadata": {},
   "outputs": [],
   "source": []
  }
 ],
 "metadata": {
  "kernelspec": {
   "display_name": "Python [conda env:mi_entorno]",
   "language": "python",
   "name": "conda-env-mi_entorno-py"
  },
  "language_info": {
   "codemirror_mode": {
    "name": "ipython",
    "version": 3
   },
   "file_extension": ".py",
   "mimetype": "text/x-python",
   "name": "python",
   "nbconvert_exporter": "python",
   "pygments_lexer": "ipython3",
   "version": "3.9.21"
  }
 },
 "nbformat": 4,
 "nbformat_minor": 5
}
